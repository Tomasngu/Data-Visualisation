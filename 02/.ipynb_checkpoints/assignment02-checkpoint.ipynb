{
 "cells": [
  {
   "cell_type": "markdown",
   "id": "3fd4f1ee",
   "metadata": {},
   "source": [
    "# Domácí úkol č. 2 - 🕸 Síťová analýza PID\n",
    "\n",
    "## 📚 Data\n",
    "Jako dataset nám poslouží [otevřená data Pražské integrované dopravy](https://pid.cz/o-systemu/opendata/). Konkrétně budeme pracovat s daty [cestovních řádů](https://pid.cz/o-systemu/opendata/#h-gtfs), která jsou původně ve formátu GTFS (General Transit Feed Specification). To je formát, který využívá široká škála softwarových aplikací a kvůli tomu jej při publikaci dat využívají také veřejné dopravní agentury včetně PID.\n",
    "\n",
    "☝️**Pozor!** Pro řešení domácí úlohy vám poskytneme už připravený dataset $D$ ve formátu `csv`. Dataset $D$ jsme pro vás sestavili z dat, která pocházejí z [cestovních řádů](https://pid.cz/o-systemu/opendata/#h-gtfs). Více informací o všech souborech a jejich atributech lze nalézt v [dokumentaci formátu GTFS](https://developers.google.com/transit/gtfs/reference).\n",
    "\n",
    "## Zadání\n",
    "> ☝️ Používejte markdown buňky! Zdůvodňujte všechny důležité kroky, popisujte vizualizace a co je z nich možné pozorovat. Za nepřehledný domácí úkol nebudou uděleny body.\n",
    "\n",
    "Za řádné průběžné komentování a vizuální prezentaci postupu a výsledků lze získat až 4 body. Úkol řešíte jako **jednotlivci**.\n",
    "\n",
    "**✨ Dataset**\n",
    "* Načtěte si data ze souboru `d.csv`, což je již zmíněný dataset $D$, který obsahuje záznam pro každé dvě **po sobě jdoucí** zastávky nějakého spoje.\n",
    "* Struktura je následující (pro zjednodušení neuvažujeme service start_date a end_date):\n",
    "| stop_from | stop_from_name | stop_to | stop_to_name | depart_from | arrive_to | route_type | is_night | mon | tue | wed | thu | fri | sat | sun |\n",
    "| --- | --- | --- | --- | --- | --- | --- | --- | --- | --- | --- | --- | --- | --- | --- |\n",
    "| U699Z3P | Stadion Strahov | U981Z1P | Koleje Strahov | 7:24:00 | 7:25:00 | 3 | 0 | 1 | 1 | 1 | 1 | 1 | 0 | 0 |\n",
    "\n",
    "* Jedinečným identifikátorem zastávky je **název zastávky**. Pozor na stejné názvy zastávek pro různé dopravní prostředky - u takových zastávek uvažujte, že se jedná o jednu a tutéž stanici.\n",
    "\n",
    "**⚙️ Předzpracování dat**\n",
    "\n",
    "* Atributy `depart_from` a `arrive_to` budete chtít nejspíše upravit. Obsahují totiž časové údaje delší než 24 hodin (celkem se jedná o 1.5 % záznamů). Z reference formátu GTFS (info o sloupci, z kterého vznikl `depart_from` a `arive_to`): _Arrival time at a specific stop for a specific trip on a route. … For times occurring after midnight on the service day, enter the time as a value greater than 24:00:00 in HH:MM:SS local time for the day on which the trip schedule begins._ Nicméně narazíte i na chybné časy, které začínají s hodnotou větší než 24. Všechny tyto případy můžete vyřešit pomocí **modulo 24** ☝️.\n",
    "\n",
    "\n",
    "**🕸️ Základní síťová analýza** (celkem 12 bodů)\n",
    "\n",
    "Úkolem je analyzovat síť zastávek PID. Zastávky tedy budou uzly sítě. Mezi dvěma zastávkami je orientovaná hrana, pokud jsou to dvě po sobě jdoucí zastávky nějakého spoje (existuje alespoň jeden záznam v datasetu $D$ s odpovídajícími `stop_from`, `stop_to`). Váha hrany je rovna počtu dopravních prostředků, které na dané trase za období jednoho týdne projedou.\n",
    "\n",
    "Postupujte následovně:\n",
    "* Začněte volbou libovolného balíčku pro analýzu a vizualizaci sítí (lze využít i zmíněný NetworkX),\n",
    "* z datasetu $D$ vytvořte reprezentaci dat, která je vhodná pro vámi zvolený vizualizační balíček,\n",
    "* vytvořte vizualizaci sítě (celkem za 4 body) - vizualizace musí být čitelná, proto můžete vizualizovat i podčást sítě (např. pro určitý dopravní prostředek, např. tramvaje (kromě vizualizace sítě lanovky nebo metra, tu neuznáváme) nebo nějaký podgraf - řešení ponecháme na vás),\n",
    "* pomocí alespoň tří měr centrality analyzujte důležitost zastávek za období jednoho týdne (pondělí - neděle) a komentujte slovně, co tyto míry vzhledem ke konkrétním datům znamenají (každá míra za 2 body, celkem tedy za 6 bodů),\n",
    "* vytvořte vizualizaci pro alespoň jednu míru centrality (celkem za 2 body).\n",
    "\n",
    "**❓ Vlastní otázky** (3 body za každou otázku, celkem max. 9 bodů)\n",
    "\n",
    "Vytvořte 3 otázky (můžete i více), založené na filtraci datasetu $D$ a odpovídejte na ně vhodnými vizualizacemi. Otázky pro inspiraci:\n",
    "* Mění se důležité zastávky v závislosti na denním/nočním provozu?\n",
    "* Je rozdíl ve vytíženosti zastávek během pracovního týdne/víkendu?\n",
    "* ...\n",
    "\n",
    "**🔥 Data navíc**\n",
    "\n",
    "V souboru `stops.txt` je u každé zastávky uvedena **zeměpisná šířka a délka**. Tato data můžete využít pro rozšíření své analýzy a také vám mohou pomoci při layoutování grafu. ☝️ Pozor na stejné názvy zastávek s trochu jinou lokací pro různé dopravní prostředky. Je třeba navrhnout nějaké řešení (např. první, průměr, těžiště mnohoúhelníku apod., libovolně dle vašeho úsudku) a to zdůvodnit.\n",
    "\n",
    "### Bodové hodnocení\n",
    "Shrnutí bodů, které můžete nejvýše získat:\n",
    "- 4 body za průběžné komentáře a vizuální prezentaci postupu a výsledků,\n",
    "- 4 body za vizualizaci sítě,\n",
    "- 6 bodů za komentovanou analýzu alespoň 3 měr centrality,\n",
    "- 2 body za vizualizaci jedné z měr centrality,\n",
    "- 9 bodů za definici a zodpovězení minimálně tří vlastních otázek.\n",
    "\n",
    "Celkem lze za domácí úkol č. 2 získat maximálně 25 bodů."
   ]
  },
  {
   "cell_type": "code",
   "execution_count": null,
   "id": "a81cdca2",
   "metadata": {},
   "outputs": [],
   "source": [
    "# a teď už je to na vás 💪\n",
    "# níže vložte své řešení"
   ]
  }
 ],
 "metadata": {
  "kernelspec": {
   "display_name": "Python 3 (ipykernel)",
   "language": "python",
   "name": "python3"
  },
  "language_info": {
   "codemirror_mode": {
    "name": "ipython",
    "version": 3
   },
   "file_extension": ".py",
   "mimetype": "text/x-python",
   "name": "python",
   "nbconvert_exporter": "python",
   "pygments_lexer": "ipython3",
   "version": "3.9.12"
  }
 },
 "nbformat": 4,
 "nbformat_minor": 5
}
