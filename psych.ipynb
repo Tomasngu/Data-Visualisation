{
 "cells": [
  {
   "cell_type": "code",
   "execution_count": 51,
   "metadata": {},
   "outputs": [],
   "source": [
    "import pandas as pd\n"
   ]
  },
  {
   "cell_type": "code",
   "execution_count": 52,
   "metadata": {},
   "outputs": [],
   "source": [
    "url='https://www.worldcubeassociation.org/competitions/CzechChampionship2023/registrations/psych-sheet/'\n",
    "events = ['222',\n",
    " '333',\n",
    " '333bf',\n",
    " '333mbf',\n",
    " '333oh',\n",
    " '444','444bf', '555',\n",
    " '555bf',\n",
    " '666',\n",
    " '777',\n",
    " 'clock',\n",
    " 'minx',\n",
    " 'pyram',\n",
    " 'skewb']"
   ]
  },
  {
   "cell_type": "code",
   "execution_count": 53,
   "metadata": {},
   "outputs": [
    {
     "name": "stdout",
     "output_type": "stream",
     "text": [
      "https://www.worldcubeassociation.org/competitions/CzechChampionship2023/registrations/psych-sheet/222\n",
      "https://www.worldcubeassociation.org/competitions/CzechChampionship2023/registrations/psych-sheet/333\n",
      "https://www.worldcubeassociation.org/competitions/CzechChampionship2023/registrations/psych-sheet/333bf\n",
      "https://www.worldcubeassociation.org/competitions/CzechChampionship2023/registrations/psych-sheet/333mbf\n",
      "https://www.worldcubeassociation.org/competitions/CzechChampionship2023/registrations/psych-sheet/333oh\n",
      "https://www.worldcubeassociation.org/competitions/CzechChampionship2023/registrations/psych-sheet/444\n",
      "https://www.worldcubeassociation.org/competitions/CzechChampionship2023/registrations/psych-sheet/444bf\n",
      "https://www.worldcubeassociation.org/competitions/CzechChampionship2023/registrations/psych-sheet/555\n",
      "https://www.worldcubeassociation.org/competitions/CzechChampionship2023/registrations/psych-sheet/555bf\n",
      "https://www.worldcubeassociation.org/competitions/CzechChampionship2023/registrations/psych-sheet/666\n",
      "https://www.worldcubeassociation.org/competitions/CzechChampionship2023/registrations/psych-sheet/777\n",
      "https://www.worldcubeassociation.org/competitions/CzechChampionship2023/registrations/psych-sheet/clock\n",
      "https://www.worldcubeassociation.org/competitions/CzechChampionship2023/registrations/psych-sheet/minx\n",
      "https://www.worldcubeassociation.org/competitions/CzechChampionship2023/registrations/psych-sheet/pyram\n",
      "https://www.worldcubeassociation.org/competitions/CzechChampionship2023/registrations/psych-sheet/skewb\n"
     ]
    }
   ],
   "source": [
    "new_df = pd.DataFrame()\n",
    "for event in events:\n",
    "    print(url+event)\n",
    "    table_MN = pd.read_html(url+event, flavor='bs4')\n",
    "    df = table_MN[0]\n",
    "    x = df[df['Representing']=='Czech Republic'].Name.values[:10]\n",
    "    new_df[event] = x\n"
   ]
  },
  {
   "cell_type": "code",
   "execution_count": 54,
   "metadata": {},
   "outputs": [
    {
     "name": "stdout",
     "output_type": "stream",
     "text": [
      "Jindřich Heissiger\n",
      " Tomáš Szyszkowicz\n",
      "    Arsenij Kuprin\n",
      "      Luboš Bartík\n",
      " Lukas Pohořelický\n",
      "   Vojtěch Tomeček\n",
      "  Veronika Becková\n",
      "       Adam Hlavín\n",
      "   Vojtěch Kundera\n",
      "  Vojtěch Grohmann\n"
     ]
    }
   ],
   "source": [
    "print((new_df['555']).to_string(index=False).strip())"
   ]
  },
  {
   "cell_type": "code",
   "execution_count": 59,
   "metadata": {},
   "outputs": [],
   "source": [
    "new_df_X = pd.DataFrame()\n",
    "table_X = pd.read_html('https://www.worldcubeassociation.org/competitions/CzechFMCChampionship2023/registrations/psych-sheet/333fm', flavor='bs4')\n",
    "df_X = table_X[0]\n",
    "x_X = df_X[df_X['Representing']=='Czech Republic'].Name.values[:10]\n",
    "new_df_X['FMC'] = x_X"
   ]
  },
  {
   "cell_type": "code",
   "execution_count": 60,
   "metadata": {},
   "outputs": [
    {
     "name": "stdout",
     "output_type": "stream",
     "text": [
      "Jan Riedl\n",
      "    Matěj Grohmann\n",
      "     Marek Chvojka\n",
      "Jindřich Heissiger\n",
      "      Michal Černý\n",
      "   Cyril Teichmann\n",
      "       Adam Hlavín\n",
      "    Jáchym Střelec\n",
      "   Daniel Forejtek\n",
      "    Samuel Talacko\n"
     ]
    }
   ],
   "source": [
    "print((new_df_X['FMC']).to_string(index=False).strip())"
   ]
  },
  {
   "cell_type": "code",
   "execution_count": null,
   "metadata": {},
   "outputs": [],
   "source": []
  }
 ],
 "metadata": {
  "kernelspec": {
   "display_name": "bipyt",
   "language": "python",
   "name": "python3"
  },
  "language_info": {
   "codemirror_mode": {
    "name": "ipython",
    "version": 3
   },
   "file_extension": ".py",
   "mimetype": "text/x-python",
   "name": "python",
   "nbconvert_exporter": "python",
   "pygments_lexer": "ipython3",
   "version": "3.11.3"
  },
  "orig_nbformat": 4
 },
 "nbformat": 4,
 "nbformat_minor": 2
}
